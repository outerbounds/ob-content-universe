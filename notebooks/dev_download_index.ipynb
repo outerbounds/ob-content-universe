{
 "cells": [
  {
   "cell_type": "code",
   "execution_count": 1,
   "metadata": {},
   "outputs": [],
   "source": [
    "from llama_index.core import load_index_from_storage, StorageContext\n",
    "from llama_index.vector_stores.lancedb import LanceDBVectorStore\n",
    "from metaflow import Run"
   ]
  },
  {
   "cell_type": "code",
   "execution_count": 5,
   "metadata": {},
   "outputs": [],
   "source": [
    "# hack because this repo isn't a proper package\n",
    "import sys\n",
    "sys.path.append('..')\n",
    "from flows.utils.data_tools import DirectorySyncManager"
   ]
  },
  {
   "cell_type": "code",
   "execution_count": 6,
   "metadata": {},
   "outputs": [],
   "source": [
    "FLOW_NAME = 'TransformAndIndex'\n",
    "RUN_ID = '2209'\n",
    "run=Run(f'{FLOW_NAME}/{RUN_ID}')"
   ]
  },
  {
   "cell_type": "code",
   "execution_count": 8,
   "metadata": {},
   "outputs": [],
   "source": [
    "LANCEDB_LOCAL_URI='.lancedb'\n",
    "DirectorySyncManager(root=LANCEDB_LOCAL_URI, run=run).download() \n",
    "vector_store = LanceDBVectorStore(uri=LANCEDB_LOCAL_URI)\n",
    "storage_context = StorageContext.from_defaults(vector_store=vector_store, persist_dir=LANCEDB_LOCAL_URI)\n",
    "index = load_index_from_storage(storage_context)\n",
    "query_engine = index.as_query_engine()"
   ]
  },
  {
   "cell_type": "code",
   "execution_count": 9,
   "metadata": {},
   "outputs": [
    {
     "name": "stdout",
     "output_type": "stream",
     "text": [
      "You can manage dependencies in a flow by using decorators such as @conda to handle dependency management for a step, @conda_base to handle dependency management for each step in a flow, and @schedule to trigger flows automatically when deployed on a production orchestrator.\n"
     ]
    }
   ],
   "source": [
    "response = query_engine.query(\"How to manage dependencies in a flow?\")\n",
    "print(str(response))"
   ]
  }
 ],
 "metadata": {
  "kernelspec": {
   "display_name": "ob-content-universe",
   "language": "python",
   "name": "python3"
  },
  "language_info": {
   "codemirror_mode": {
    "name": "ipython",
    "version": 3
   },
   "file_extension": ".py",
   "mimetype": "text/x-python",
   "name": "python",
   "nbconvert_exporter": "python",
   "pygments_lexer": "ipython3",
   "version": "3.11.8"
  }
 },
 "nbformat": 4,
 "nbformat_minor": 2
}
